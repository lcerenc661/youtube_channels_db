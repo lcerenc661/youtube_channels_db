{
 "cells": [
  {
   "cell_type": "code",
   "execution_count": 7,
   "metadata": {},
   "outputs": [],
   "source": [
    "import pandas as pd\n",
    "import time \n",
    "import requests \n",
    "import json\n",
    "import random\n",
    "import time\n",
    "from datetime import datetime\n",
    "\n",
    "\n",
    "import credentials"
   ]
  },
  {
   "cell_type": "code",
   "execution_count": 8,
   "metadata": {},
   "outputs": [],
   "source": [
    "url=\"https://www.youtube.com/channel/UCPKT_csvP72boVX0XrMtagQ\""
   ]
  },
  {
   "cell_type": "code",
   "execution_count": 9,
   "metadata": {},
   "outputs": [
    {
     "data": {
      "text/plain": [
       "{'kind': 'youtube#channelListResponse',\n",
       " 'etag': 'huwUJQgLVkW2kJZeKJeG2BkKSRQ',\n",
       " 'pageInfo': {'totalResults': 1, 'resultsPerPage': 5},\n",
       " 'items': [{'kind': 'youtube#channel',\n",
       "   'etag': 'spGFRLRFjKI2H0YMFBNsb_UHYis',\n",
       "   'id': 'UCPKT_csvP72boVX0XrMtagQ',\n",
       "   'statistics': {'viewCount': '722916324',\n",
       "    'subscriberCount': '2900000',\n",
       "    'hiddenSubscriberCount': False,\n",
       "    'videoCount': '174'}}]}"
      ]
     },
     "execution_count": 9,
     "metadata": {},
     "output_type": "execute_result"
    }
   ],
   "source": [
    "CHANNEL_ID = \"UCPKT_csvP72boVX0XrMtagQ\"\n",
    "DEVELOPER_KEY = credentials.API_KEY\n",
    "\n",
    "url_channel_stats = 'https://youtube.googleapis.com/youtube/v3/channels?part=statistics&id='+CHANNEL_ID+'&key='+DEVELOPER_KEY\n",
    "channel_stats_raw = requests.get(url_channel_stats).json()\n",
    "channel_stats_raw\n"
   ]
  },
  {
   "cell_type": "code",
   "execution_count": 10,
   "metadata": {},
   "outputs": [
    {
     "data": {
      "text/plain": [
       "{'kind': 'youtube#channelListResponse',\n",
       " 'etag': 'huwUJQgLVkW2kJZeKJeG2BkKSRQ',\n",
       " 'pageInfo': {'totalResults': 1, 'resultsPerPage': 5},\n",
       " 'items': [{'kind': 'youtube#channel',\n",
       "   'etag': 'spGFRLRFjKI2H0YMFBNsb_UHYis',\n",
       "   'id': 'UCPKT_csvP72boVX0XrMtagQ',\n",
       "   'statistics': {'viewCount': '722916324',\n",
       "    'subscriberCount': '2900000',\n",
       "    'hiddenSubscriberCount': False,\n",
       "    'videoCount': '174'}}]}"
      ]
     },
     "execution_count": 10,
     "metadata": {},
     "output_type": "execute_result"
    }
   ],
   "source": [
    "channel_stats_raw"
   ]
  },
  {
   "cell_type": "code",
   "execution_count": 11,
   "metadata": {},
   "outputs": [
    {
     "data": {
      "text/plain": [
       "{'Date': '2023-06-09',\n",
       " 'Total_Views': 722916324,\n",
       " 'Subcribers': 2900000,\n",
       " 'Video_count': 174}"
      ]
     },
     "execution_count": 11,
     "metadata": {},
     "output_type": "execute_result"
    }
   ],
   "source": [
    "channel_stats = channel_stats_raw['items'][0]['statistics']\n",
    "date = pd.to_datetime('today').strftime(\"%Y-%m-%d\")\n",
    "channel_data = {\n",
    "    'Date': date,\n",
    "    'Total_Views':int(channel_stats['viewCount']),\n",
    "    'Subcribers':int(channel_stats['subscriberCount']),\n",
    "    'Video_count':int(channel_stats['videoCount']),\n",
    "}\n",
    "channel_data"
   ]
  },
  {
   "cell_type": "code",
   "execution_count": 12,
   "metadata": {},
   "outputs": [],
   "source": [
    "def get_stats(api_key, channel_id):\n",
    "    \n",
    "    url_channel_stats = 'https://youtube.googleapis.com/youtube/v3/channels?part=statistics&id='+channel_id+'&key='+api_key\n",
    "    channel_stats_raw = requests.get(url_channel_stats).json()\n",
    "    channel_stats = channel_stats_raw['items'][0]['statistics']\n",
    "    date = pd.to_datetime('today').strftime(\"%Y-%m-%d\")\n",
    "    channel_data = {\n",
    "        'Date': [date],\n",
    "        'Total_Views':[int(float(channel_stats['viewCount']))],\n",
    "        'Subcribers':[int(float(channel_stats['subscriberCount']))],\n",
    "        'Video_count':[int(float(channel_stats['videoCount']))],\n",
    "    }\n",
    "    channel_data = pd.DataFrame.from_dict(channel_data)\n",
    "    \n",
    "    return channel_data\n",
    "\n"
   ]
  },
  {
   "cell_type": "code",
   "execution_count": 13,
   "metadata": {},
   "outputs": [
    {
     "data": {
      "text/html": [
       "<div>\n",
       "<style scoped>\n",
       "    .dataframe tbody tr th:only-of-type {\n",
       "        vertical-align: middle;\n",
       "    }\n",
       "\n",
       "    .dataframe tbody tr th {\n",
       "        vertical-align: top;\n",
       "    }\n",
       "\n",
       "    .dataframe thead th {\n",
       "        text-align: right;\n",
       "    }\n",
       "</style>\n",
       "<table border=\"1\" class=\"dataframe\">\n",
       "  <thead>\n",
       "    <tr style=\"text-align: right;\">\n",
       "      <th></th>\n",
       "      <th>Date</th>\n",
       "      <th>Total_Views</th>\n",
       "      <th>Subcribers</th>\n",
       "      <th>Video_count</th>\n",
       "    </tr>\n",
       "  </thead>\n",
       "  <tbody>\n",
       "    <tr>\n",
       "      <th>0</th>\n",
       "      <td>2023-06-09</td>\n",
       "      <td>722916324</td>\n",
       "      <td>2900000</td>\n",
       "      <td>174</td>\n",
       "    </tr>\n",
       "  </tbody>\n",
       "</table>\n",
       "</div>"
      ],
      "text/plain": [
       "         Date  Total_Views  Subcribers  Video_count\n",
       "0  2023-06-09    722916324     2900000          174"
      ]
     },
     "execution_count": 13,
     "metadata": {},
     "output_type": "execute_result"
    }
   ],
   "source": [
    "cercle_data = get_stats(DEVELOPER_KEY, CHANNEL_ID)\n",
    "cercle_data"
   ]
  },
  {
   "cell_type": "code",
   "execution_count": 14,
   "metadata": {},
   "outputs": [
    {
     "data": {
      "text/html": [
       "<div>\n",
       "<style scoped>\n",
       "    .dataframe tbody tr th:only-of-type {\n",
       "        vertical-align: middle;\n",
       "    }\n",
       "\n",
       "    .dataframe tbody tr th {\n",
       "        vertical-align: top;\n",
       "    }\n",
       "\n",
       "    .dataframe thead th {\n",
       "        text-align: right;\n",
       "    }\n",
       "</style>\n",
       "<table border=\"1\" class=\"dataframe\">\n",
       "  <thead>\n",
       "    <tr style=\"text-align: right;\">\n",
       "      <th></th>\n",
       "      <th>Name</th>\n",
       "      <th>Ch_id</th>\n",
       "    </tr>\n",
       "  </thead>\n",
       "  <tbody>\n",
       "    <tr>\n",
       "      <th>0</th>\n",
       "      <td>Cercle</td>\n",
       "      <td>UCPKT_csvP72boVX0XrMtagQ</td>\n",
       "    </tr>\n",
       "    <tr>\n",
       "      <th>1</th>\n",
       "      <td>Boiler room</td>\n",
       "      <td>UCGBpxWJr9FNOcFYA5GkKrMg</td>\n",
       "    </tr>\n",
       "    <tr>\n",
       "      <th>2</th>\n",
       "      <td>Hor Berlin</td>\n",
       "      <td>UCmfF7JZv26UUKyRedViGIlw</td>\n",
       "    </tr>\n",
       "    <tr>\n",
       "      <th>3</th>\n",
       "      <td>DJ Mag</td>\n",
       "      <td>UCJEKlziKdxoos1qbptjGgLg</td>\n",
       "    </tr>\n",
       "  </tbody>\n",
       "</table>\n",
       "</div>"
      ],
      "text/plain": [
       "          Name                     Ch_id\n",
       "0       Cercle  UCPKT_csvP72boVX0XrMtagQ\n",
       "1  Boiler room  UCGBpxWJr9FNOcFYA5GkKrMg\n",
       "2   Hor Berlin  UCmfF7JZv26UUKyRedViGIlw\n",
       "3       DJ Mag  UCJEKlziKdxoos1qbptjGgLg"
      ]
     },
     "execution_count": 14,
     "metadata": {},
     "output_type": "execute_result"
    }
   ],
   "source": [
    "channels_name = ['Cercle', 'Boiler room', 'Hor Berlin', 'DJ Mag']\n",
    "channels_id = ['UCPKT_csvP72boVX0XrMtagQ','UCGBpxWJr9FNOcFYA5GkKrMg', 'UCmfF7JZv26UUKyRedViGIlw', 'UCJEKlziKdxoos1qbptjGgLg']\n",
    "channels_dict = {'Name':channels_name, 'Ch_id':channels_id}\n",
    "channels_df = pd.DataFrame.from_dict(channels_dict)\n",
    "channels_df\n"
   ]
  },
  {
   "cell_type": "code",
   "execution_count": 21,
   "metadata": {},
   "outputs": [],
   "source": [
    "channels_df.to_csv('channels_id.csv', sep=';', index=False)"
   ]
  },
  {
   "cell_type": "code",
   "execution_count": 19,
   "metadata": {},
   "outputs": [],
   "source": [
    "def get_data_df(channels_df, developer_key):\n",
    "    tiempo = [1,2,5,4]\n",
    "    data_dfs=pd.DataFrame(columns=['Channel','Total_Views','Subcribers','Video_count','Date'])\n",
    "    for channel in range(len(channels_df.index)):\n",
    "        \n",
    "        df = get_stats(developer_key, channels_df['Ch_id'][channel])\n",
    "        df.insert(0,'Channel',channels_df['Name'][channel])\n",
    "        data_dfs = pd.concat([data_dfs, df], axis=0)\n",
    "        time.sleep(random.choice(tiempo))\n",
    "    return data_dfs\n"
   ]
  },
  {
   "cell_type": "code",
   "execution_count": 20,
   "metadata": {},
   "outputs": [
    {
     "data": {
      "text/html": [
       "<div>\n",
       "<style scoped>\n",
       "    .dataframe tbody tr th:only-of-type {\n",
       "        vertical-align: middle;\n",
       "    }\n",
       "\n",
       "    .dataframe tbody tr th {\n",
       "        vertical-align: top;\n",
       "    }\n",
       "\n",
       "    .dataframe thead th {\n",
       "        text-align: right;\n",
       "    }\n",
       "</style>\n",
       "<table border=\"1\" class=\"dataframe\">\n",
       "  <thead>\n",
       "    <tr style=\"text-align: right;\">\n",
       "      <th></th>\n",
       "      <th>Channel</th>\n",
       "      <th>Total_Views</th>\n",
       "      <th>Subcribers</th>\n",
       "      <th>Video_count</th>\n",
       "      <th>Date</th>\n",
       "    </tr>\n",
       "  </thead>\n",
       "  <tbody>\n",
       "    <tr>\n",
       "      <th>0</th>\n",
       "      <td>Cercle</td>\n",
       "      <td>722916324</td>\n",
       "      <td>2900000</td>\n",
       "      <td>174</td>\n",
       "      <td>2023-06-09</td>\n",
       "    </tr>\n",
       "    <tr>\n",
       "      <th>0</th>\n",
       "      <td>Boiler room</td>\n",
       "      <td>1197661178</td>\n",
       "      <td>3480000</td>\n",
       "      <td>8952</td>\n",
       "      <td>2023-06-09</td>\n",
       "    </tr>\n",
       "    <tr>\n",
       "      <th>0</th>\n",
       "      <td>Hor Berlin</td>\n",
       "      <td>119451824</td>\n",
       "      <td>639000</td>\n",
       "      <td>5596</td>\n",
       "      <td>2023-06-09</td>\n",
       "    </tr>\n",
       "    <tr>\n",
       "      <th>0</th>\n",
       "      <td>DJ Mag</td>\n",
       "      <td>195813970</td>\n",
       "      <td>1010000</td>\n",
       "      <td>1859</td>\n",
       "      <td>2023-06-09</td>\n",
       "    </tr>\n",
       "  </tbody>\n",
       "</table>\n",
       "</div>"
      ],
      "text/plain": [
       "       Channel Total_Views Subcribers Video_count        Date\n",
       "0       Cercle   722916324    2900000         174  2023-06-09\n",
       "0  Boiler room  1197661178    3480000        8952  2023-06-09\n",
       "0   Hor Berlin   119451824     639000        5596  2023-06-09\n",
       "0       DJ Mag   195813970    1010000        1859  2023-06-09"
      ]
     },
     "execution_count": 20,
     "metadata": {},
     "output_type": "execute_result"
    }
   ],
   "source": [
    "data = get_data_df(channels_df, DEVELOPER_KEY)\n",
    "data\n"
   ]
  }
 ],
 "metadata": {
  "kernelspec": {
   "display_name": "Python 3",
   "language": "python",
   "name": "python3"
  },
  "language_info": {
   "codemirror_mode": {
    "name": "ipython",
    "version": 3
   },
   "file_extension": ".py",
   "mimetype": "text/x-python",
   "name": "python",
   "nbconvert_exporter": "python",
   "pygments_lexer": "ipython3",
   "version": "3.10.6"
  },
  "orig_nbformat": 4
 },
 "nbformat": 4,
 "nbformat_minor": 2
}
